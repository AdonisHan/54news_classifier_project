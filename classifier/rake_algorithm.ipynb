{
 "cells": [
  {
   "cell_type": "code",
   "execution_count": 1,
   "metadata": {},
   "outputs": [],
   "source": [
    "from rake_nltk import Rake\n",
    "import sys\n",
    "sys.path.append('/home/junuwang/PycharmProjects')\n",
    "from nltk.stem import SnowballStemmer\n",
    "\n",
    "def normalize_text(texts, stops):\n",
    "    # 소문자 변환\n",
    "    texts = [x.lower() for x in texts]\n",
    "    # 숫자 제거\n",
    "    texts = [''.join(c for c in x if c not in '0123456789') for x in texts]\n",
    "    # 불용어 제거\n",
    "    texts = [' '.join([word for word in x.split() if word not in (stops)]) for x in texts]\n",
    "    # 공백 제거\n",
    "    texts = [' '.join(x.split()) for x in texts]\n",
    "    \n",
    "    return(texts)"
   ]
  },
  {
   "cell_type": "code",
   "execution_count": 2,
   "metadata": {},
   "outputs": [
    {
     "name": "stdout",
     "output_type": "stream",
     "text": [
      "['nonpl', 'pl', \"'s\", \"'m\", \"'d\", '!', \"'d\", \"'ll\", \"'re\", \"'ve\", ',', '?', 'hmm', 'huhuh', 'um', 'mm', 'ahm', 'maam', 'ok', 'hello', 'yeah', 'im', 'right', 'huh', 'yeap', 'dot', 'uh', 'com', 'ta', 'umm', 'wo', 'wi', 'fi', 'yup', 'ca', \"ma'am\", 'um', 'ahi', 'thank', 'hi', 'yes', 'oh', 'ha', 'bye', 'na', 'buh', 'ah', 'yah', 'uhm', 'zero', 'one', 'two', 'three', 'four', 'five', 'six', 'seven', 'eight', 'nine', 'a', 'b', 'c', 'd', 'e', 'f', 'g', 'h', 'i', 'j', 'k', 'l', 'm', 'n', 'o', 'p', 'q', 'r', 's', 't', 'u', 'v', 'w', 'x', 'y', 'z', 'edward', 'mary', 'sam', 'nancy', 'david', 'monday', 'tuesday', 'wednesday', 'thursday', 'friday', 'saturday', 'sunday', 'january', 'february', 'march', 'april', 'may', 'june', 'july', 'august', 'september', 'october', 'november', 'december']\n"
     ]
    }
   ],
   "source": [
    "from nltk.corpus import stopwords\n",
    "r = Rake()\n",
    "stops = list(set(stopwords.words('english')))\n",
    "self_stop_words = ['nonpl', 'pl', \"'s\", \"'m\", \"'d\", '!', \"'d\", \"'ll\", \"'re\", \"'ve\", ',', '?',   # single\n",
    "                   'hmm', 'huhuh', 'um', 'mm', 'ahm', 'maam', 'ok', 'hello', 'yeah', 'im', 'right', 'huh', 'yeap', 'dot', 'uh', 'com',\n",
    "                   'ta', 'umm', 'wo', 'wi', 'fi', 'yup', 'ca', \"ma'am\", 'um',\n",
    "                   'ahi', 'thank', 'hi', 'yes', 'oh', 'ha', 'bye', 'na', 'buh', 'ah', 'yah', 'uhm',\n",
    "                   'zero','one', 'two', 'three', 'four', 'five', 'six', 'seven', 'eight', 'nine', # number\n",
    "                   'a','b','c','d','e','f','g','h','i','j','k','l','m','n','o','p','q','r','s','t','u','v','w','x','y','z', # alphabet\n",
    "                   'edward', 'mary', 'sam', 'nancy', 'david', # name\n",
    "                   'monday', 'tuesday', 'wednesday', 'thursday', 'friday', 'saturday', 'sunday', # day\n",
    "                   'january', 'february', 'march', 'april', 'may', 'june', 'july', 'august', 'september', 'october', 'november', 'december', # month\n",
    "                   ]\n",
    "stop_words = self_stop_words\n",
    "print(stop_words)"
   ]
  },
  {
   "cell_type": "code",
   "execution_count": 3,
   "metadata": {},
   "outputs": [],
   "source": [
    "mytext = [\"\"\"Thank you. very much for that information and how may I ask you today. Yeah i i purchase um the gear and phones and they uhm they have a nice to call. But the the the speaker fiction days one of them so long right. Ok miss. Remember that you have some problem with your gear headphones. Can you please provide me the model of this device for but it's also sir? Ah! Thank you. I don't know if I can do you see the model is may I have the right thing too small for me to make so I will be able to do that right. No I don't get the phone. It's only on the back of the device you know if I could you know and get it from the start with the phone are. Can you hear me? We can get the phone back of the device. The service that I can I cannot hear you really work. Can you please repeat again? And um so for the inconvenience in the back of the device. Um uh one second. Yeah. Can I get it from the device from the ahm from the time on the phone are sold in the back of the device right? I got a cause I comical not breaking the store smart. Ok. I need mind if I got you got it. Ok. Sir. You can do it. Alright. I got it alright. Hi mister. Thank you. \n",
    "\"\"\"]\n",
    "\n",
    "mytext = normalize_text(mytext, stops=stop_words)"
   ]
  },
  {
   "cell_type": "code",
   "execution_count": 4,
   "metadata": {},
   "outputs": [
    {
     "name": "stdout",
     "output_type": "stream",
     "text": [
      "you. very much for that information and how ask you today. purchase the gear and phones and they they have nice to call. but the the the speaker fiction days of them so long right. miss. remember that you have some problem with your gear headphones. can you please provide me the model of this device for but it's also sir? ah! you. don't know if can do you see the model is have the thing too small for me to make so will be able to do that right. no don't get the phone. it's only on the back of the device you know if could you know and get it from the start with the phone are. can you hear me? we can get the phone back of the device. the service that can cannot hear you really work. can you please repeat again? and so for the inconvenience in the back of the device. second. yeah. can get it from the device from the from the time on the phone are sold in the back of the device right? got cause comical not breaking the store smart. ok. need mind if got you got it. ok. sir. you can do it. alright. got it alright. mister. you.\n"
     ]
    }
   ],
   "source": [
    "r.extract_keywords_from_text(mytext[0])\n",
    "print(mytext[0])"
   ]
  },
  {
   "cell_type": "code",
   "execution_count": 5,
   "metadata": {},
   "outputs": [
    {
     "data": {
      "text/plain": [
       "['speaker fiction days',\n",
       " 'got cause comical',\n",
       " 'store smart',\n",
       " 'really work',\n",
       " 'please repeat',\n",
       " 'please provide',\n",
       " 'need mind',\n",
       " 'long right',\n",
       " 'gear headphones',\n",
       " 'cannot hear']"
      ]
     },
     "execution_count": 5,
     "metadata": {},
     "output_type": "execute_result"
    }
   ],
   "source": [
    "r.get_ranked_phrases()[:10]"
   ]
  },
  {
   "cell_type": "code",
   "execution_count": 6,
   "metadata": {},
   "outputs": [
    {
     "data": {
      "text/plain": [
       "[(9.0, 'speaker fiction days'),\n",
       " (8.0, 'got cause comical'),\n",
       " (4.0, 'store smart'),\n",
       " (4.0, 'really work'),\n",
       " (4.0, 'please repeat'),\n",
       " (4.0, 'please provide'),\n",
       " (4.0, 'need mind'),\n",
       " (3.666666666666667, 'long right'),\n",
       " (3.5, 'gear headphones'),\n",
       " (3.5, 'cannot hear'),\n",
       " (3.5, 'also sir'),\n",
       " (3.166666666666667, 'device right'),\n",
       " (3.0, 'phone back'),\n",
       " (2.0, 'got'),\n",
       " (1.6666666666666667, 'right'),\n",
       " (1.5, 'sir'),\n",
       " (1.5, 'phone'),\n",
       " (1.5, 'hear'),\n",
       " (1.5, 'gear'),\n",
       " (1.5, 'device')]"
      ]
     },
     "execution_count": 6,
     "metadata": {},
     "output_type": "execute_result"
    }
   ],
   "source": [
    "r.get_ranked_phrases_with_scores()[:20]"
   ]
  },
  {
   "cell_type": "code",
   "execution_count": null,
   "metadata": {},
   "outputs": [],
   "source": []
  }
 ],
 "metadata": {
  "kernelspec": {
   "display_name": "Python 3",
   "language": "python",
   "name": "python3"
  },
  "language_info": {
   "codemirror_mode": {
    "name": "ipython",
    "version": 3
   },
   "file_extension": ".py",
   "mimetype": "text/x-python",
   "name": "python",
   "nbconvert_exporter": "python",
   "pygments_lexer": "ipython3",
   "version": "3.5.2"
  }
 },
 "nbformat": 4,
 "nbformat_minor": 1
}
